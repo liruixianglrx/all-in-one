{
 "cells": [
  {
   "cell_type": "code",
   "execution_count": 1,
   "metadata": {},
   "outputs": [],
   "source": [
    "import pickle\n",
    "import numpy as np\n",
    "import lightgbm as lgb"
   ]
  },
  {
   "cell_type": "code",
   "execution_count": 2,
   "metadata": {},
   "outputs": [],
   "source": [
    "distance_func = lambda d: d"
   ]
  },
  {
   "cell_type": "code",
   "execution_count": 3,
   "metadata": {},
   "outputs": [],
   "source": [
    "def get_data(path: str):\n",
    "    with open(path, \"rb\") as f:\n",
    "        json_data = pickle.load(f)\n",
    "        \n",
    "    X = []\n",
    "    y = []\n",
    "\n",
    "    for k, v in json_data.items():\n",
    "        print(k)\n",
    "        node_num, minterm_num = k\n",
    "        for d_tuple, size in v.items():\n",
    "            distance = sum(map(distance_func, d_tuple))\n",
    "            if [node_num, minterm_num, distance] in X:\n",
    "                index = X.index([node_num, minterm_num, distance])\n",
    "                y[index] += size\n",
    "            else:\n",
    "                X.append([node_num, minterm_num, distance])\n",
    "                y.append([np.mean(size)])\n",
    "    \n",
    "    y = list(map(lambda l: np.mean(l), y))\n",
    "\n",
    "    X = np.array(X)\n",
    "    y = np.array(y)\n",
    "    \n",
    "    data = np.concatenate((X, y.reshape(-1, 1)), axis=1)\n",
    "    \n",
    "    return data\n",
    "        "
   ]
  },
  {
   "cell_type": "code",
   "execution_count": 4,
   "metadata": {},
   "outputs": [
    {
     "name": "stdout",
     "output_type": "stream",
     "text": [
      "(2, 2)\n",
      "(2, 3)\n",
      "(3, 2)\n",
      "(3, 3)\n",
      "(3, 4)\n",
      "(3, 5)\n",
      "(3, 6)\n",
      "(3, 7)\n",
      "(4, 2)\n",
      "(4, 3)\n",
      "(4, 4)\n",
      "(4, 5)\n",
      "(4, 6)\n",
      "(4, 7)\n",
      "(4, 8)\n",
      "(4, 9)\n",
      "(4, 10)\n",
      "(4, 12)\n",
      "(4, 15)\n",
      "(5, 2)\n",
      "(5, 3)\n",
      "(5, 4)\n",
      "(5, 5)\n",
      "(5, 6)\n",
      "(5, 7)\n",
      "(5, 8)\n",
      "(5, 9)\n",
      "(5, 10)\n",
      "(5, 12)\n",
      "(5, 15)\n",
      "(5, 20)\n",
      "(5, 30)\n",
      "(6, 2)\n",
      "(6, 3)\n",
      "(6, 4)\n",
      "(6, 5)\n",
      "(6, 6)\n",
      "(6, 7)\n",
      "(6, 8)\n",
      "(6, 9)\n",
      "(6, 10)\n",
      "(6, 12)\n",
      "(6, 15)\n",
      "(6, 20)\n",
      "(6, 30)\n",
      "(6, 40)\n",
      "(6, 50)\n",
      "(7, 2)\n",
      "(7, 3)\n",
      "(7, 4)\n",
      "(7, 5)\n",
      "(7, 6)\n",
      "(7, 7)\n",
      "(7, 8)\n",
      "(7, 9)\n",
      "(7, 10)\n",
      "(7, 12)\n",
      "(7, 15)\n",
      "(7, 20)\n",
      "(7, 30)\n",
      "(7, 40)\n",
      "(7, 50)\n",
      "(8, 2)\n",
      "(8, 3)\n",
      "(8, 4)\n",
      "(8, 5)\n",
      "(8, 6)\n",
      "(8, 7)\n",
      "(8, 8)\n",
      "(8, 9)\n",
      "(8, 10)\n",
      "(8, 12)\n",
      "(8, 15)\n",
      "(8, 20)\n",
      "(8, 30)\n",
      "(8, 40)\n",
      "(8, 50)\n",
      "(9, 2)\n",
      "(9, 3)\n",
      "(9, 4)\n",
      "(9, 5)\n",
      "(9, 6)\n",
      "(9, 7)\n",
      "(9, 8)\n",
      "(9, 9)\n",
      "(9, 10)\n",
      "(9, 12)\n",
      "(9, 15)\n",
      "(9, 20)\n",
      "(9, 30)\n",
      "(9, 40)\n",
      "(9, 50)\n",
      "(10, 2)\n",
      "(10, 3)\n",
      "(10, 4)\n",
      "(10, 5)\n",
      "(10, 6)\n",
      "(10, 7)\n",
      "(10, 8)\n",
      "(10, 9)\n",
      "(10, 10)\n",
      "(10, 12)\n",
      "(10, 15)\n",
      "(10, 20)\n",
      "(10, 30)\n",
      "(10, 40)\n",
      "(10, 50)\n",
      "(12, 2)\n",
      "(12, 3)\n",
      "(12, 4)\n",
      "(12, 5)\n",
      "(12, 6)\n",
      "(12, 7)\n",
      "(12, 8)\n",
      "(12, 9)\n",
      "(12, 10)\n",
      "(12, 12)\n",
      "(12, 15)\n",
      "(12, 20)\n",
      "(12, 30)\n",
      "(12, 40)\n",
      "(12, 50)\n",
      "(15, 2)\n",
      "(15, 3)\n",
      "(15, 4)\n",
      "(15, 5)\n",
      "(15, 6)\n",
      "(15, 7)\n",
      "(15, 8)\n",
      "(15, 9)\n",
      "(15, 10)\n",
      "(15, 12)\n",
      "(15, 15)\n",
      "(15, 20)\n",
      "(15, 30)\n",
      "(15, 40)\n",
      "(15, 50)\n"
     ]
    }
   ],
   "source": [
    "data = get_data(\"distance_size_full.pkl\")"
   ]
  },
  {
   "cell_type": "code",
   "execution_count": 5,
   "metadata": {},
   "outputs": [],
   "source": [
    "from sklearn.model_selection import train_test_split\n",
    "import pandas as pd\n",
    "\n",
    "cols = [\"node_num\", \"minterm_num\", \"distance\", \"size\"]\n",
    "\n",
    "data = pd.DataFrame(data, columns=cols)\n",
    "\n",
    "data_train, data_test = train_test_split(data, test_size=0.2, random_state=23)\n"
   ]
  },
  {
   "cell_type": "code",
   "execution_count": 6,
   "metadata": {},
   "outputs": [],
   "source": [
    "from sklearn.metrics import make_scorer\n",
    "\n",
    "def relative_error(y_true, y_pred):\n",
    "    return sum(np.abs(y_true - y_pred) / y_true)\n",
    "\n",
    "my_scorer = make_scorer(relative_error, greater_is_better=False)\n",
    "\n"
   ]
  },
  {
   "cell_type": "code",
   "execution_count": 30,
   "metadata": {},
   "outputs": [
    {
     "data": {
      "application/vnd.jupyter.widget-view+json": {
       "model_id": "36fc2ad318344a2d84d7999fad9bb4eb",
       "version_major": 2,
       "version_minor": 0
      },
      "text/plain": [
       "ExperimentProcessWidget(initData='{\"task\": \"regression\", \"datasets\": [{\"kind\": \"Train\", \"task\": \"regression\", …"
      ]
     },
     "metadata": {},
     "output_type": "display_data"
    },
    {
     "name": "stdout",
     "output_type": "stream",
     "text": [
      "Pipeline(steps=[('data_clean',\n",
      "                 DataCleanStep(cv=True,\n",
      "                               data_cleaner_args={'correct_object_dtype': True,\n",
      "                                                  'drop_columns': None,\n",
      "                                                  'drop_constant_columns': True,\n",
      "                                                  'drop_duplicated_columns': False,\n",
      "                                                  'drop_idness_columns': True,\n",
      "                                                  'drop_label_nan_rows': True,\n",
      "                                                  'int_convert_to': 'float',\n",
      "                                                  'nan_chars': None,\n",
      "                                                  'reduce_mem_usage': False,\n",
      "                                                  'reserve_columns': None},\n",
      "                               name='data_clean')),\n",
      "                ('est...\n",
      "                 GreedyEnsemble(weight=[0.1, 0.15, 0.0, 0.05, 0.0, 0.0, 0.0, 0.2, 0.15, 0.0, 0.0, 0.1, 0.05, 0.0, 0.0, 0.0, 0.0, 0.0, 0.0, 0.2], scores=[-88.70034351726031, -86.6338849125535, -85.15508186433804, -84.26075558829824, -84.16145730270279, -84.21097272441982, -84.32090368621878, -84.11496276704321, -84.06098204962811, -84.07480327263748, -84.11818489324332, -84.14631677678342, -84.0542655287551, -84.05697496764567, -84.06602676462848, -84.08043694918932, -84.06890609921464, -84.03604034276508, -84.03712467467224, -84.05747907530815]))])\n"
     ]
    }
   ],
   "source": [
    "from hypergbm import make_experiment\n",
    "\n",
    "# experiment = make_experiment(data_train, target=\"size\", max_trials=300, cv=True, num_folds=5)\n",
    "experiment = make_experiment(data_train, target=\"size\", max_trials=100, early_stopping_rounds=20, reward_metric=relative_error, \n",
    "                             scorer=my_scorer, num_folds=5)\n",
    "estimator = experiment.run()\n",
    "print(estimator)"
   ]
  },
  {
   "cell_type": "code",
   "execution_count": 7,
   "metadata": {},
   "outputs": [],
   "source": [
    "def read_pickle(pickle_path: str):\n",
    "    with open(pickle_path, \"rb\") as f:\n",
    "        data = pickle.load(f)\n",
    "\n",
    "    return data\n",
    "\n",
    "estimator = read_pickle(\"model.pkl\")"
   ]
  },
  {
   "cell_type": "code",
   "execution_count": 8,
   "metadata": {},
   "outputs": [
    {
     "name": "stdout",
     "output_type": "stream",
     "text": [
      "0.039472457184048466\n",
      "0.08044328129883048\n",
      "0.9972933159355918\n",
      "0.00025340221319934187\n"
     ]
    }
   ],
   "source": [
    "y_test = data_test['size'].to_numpy()\n",
    "error = (np.abs(estimator.predict(data_test) - y_test)) / y_test\n",
    "print(np.mean(error))\n",
    "print(np.std(error))\n",
    "print(np.max(error))\n",
    "print(np.min(error))"
   ]
  },
  {
   "cell_type": "code",
   "execution_count": 30,
   "metadata": {},
   "outputs": [],
   "source": [
    "mean = np.mean(error)\n",
    "per95 = np.percentile(error, 95)"
   ]
  },
  {
   "cell_type": "code",
   "execution_count": 51,
   "metadata": {},
   "outputs": [
    {
     "data": {
      "image/png": "[encoded data removed]",
      "text/plain": [
       "<Figure size 1980x1080 with 1 Axes>"
      ]
     },
     "metadata": {},
     "output_type": "display_data"
    }
   ],
   "source": [
    "import matplotlib as mpl\n",
    "import matplotlib.pyplot as plt\n",
    "import scienceplots\n",
    "\n",
    "# plt.style.use(\"seaborn\")\n",
    "plt.style.use([\"science\", \"ieee\"])\n",
    "\n",
    "mpl.rcParams['figure.figsize'] = 3.3, 1.8\n",
    "mpl.rcParams['font.size'] = 8\n",
    "\n",
    "fig, ax = plt.subplots()\n",
    "ax.hist(error, bins=100)\n",
    "ax.set_xlabel(\"Relative Error\")\n",
    "# ax.text(0.7, 40, \"The outlier with high relative error \\n but small absolute error.\")\n",
    "ax.annotate(\n",
    "    \"The outlier, \\n only 1.7 absolute error\",\n",
    "    fontsize=9,\n",
    "    xy=(0.985, 2),\n",
    "    xytext=(0.5, 30),\n",
    "    arrowprops=dict(arrowstyle=\"->\", connectionstyle=\"arc3,rad=0.2\"),\n",
    ")\n",
    "\n",
    "# Mean\n",
    "mean_ = [mean, mean]\n",
    "y_range = [0, 80]\n",
    "plt.plot(mean_, y_range, \"r--\")\n",
    "ax.annotate(\n",
    "    f\"Mean: {mean:.3f}\",\n",
    "    fontsize=9,\n",
    "    xy=(mean, 60),\n",
    "    xytext=(0.12, 85),\n",
    "    arrowprops=dict(arrowstyle=\"->\", fc=\"red\", connectionstyle=\"arc3,rad=-0.2\")\n",
    ")\n",
    "\n",
    "# 95%\n",
    "zeroone = [per95, per95]\n",
    "y_range = [0, 60]\n",
    "plt.plot(zeroone, y_range, \"r--\")\n",
    "ax.annotate(\n",
    "    f\"95th percentile: {per95:.3f}\",\n",
    "    fontsize=10,\n",
    "    xy=(per95, 40),\n",
    "    xytext=(0.26, 70),\n",
    "    arrowprops=dict(arrowstyle=\"->\", fc=\"red\", connectionstyle=\"arc3,rad=-0.2\")\n",
    ")\n",
    "\n",
    "# ax.set_xscale(\"log\")\n",
    "# ax.set_ylabel(\"n\")\n",
    "fig.show()\n",
    "fig.savefig(\"relative_error.pdf\")\n"
   ]
  },
  {
   "cell_type": "code",
   "execution_count": 24,
   "metadata": {},
   "outputs": [],
   "source": [
    "# import pickle\n",
    "# with open('model.pkl','wb') as f:\n",
    "#   pickle.dump(estimator, f)"
   ]
  },
  {
   "cell_type": "code",
   "execution_count": 25,
   "metadata": {},
   "outputs": [],
   "source": [
    "def read_pickle(pickle_path: str):\n",
    "    with open(pickle_path, \"rb\") as f:\n",
    "        data = pickle.load(f)\n",
    "\n",
    "    return data\n",
    "\n",
    "estimator = read_pickle(\"model.pkl\")"
   ]
  },
  {
   "cell_type": "code",
   "execution_count": 26,
   "metadata": {},
   "outputs": [
    {
     "data": {
      "text/html": [
       "<div>\n",
       "<style scoped>\n",
       "    .dataframe tbody tr th:only-of-type {\n",
       "        vertical-align: middle;\n",
       "    }\n",
       "\n",
       "    .dataframe tbody tr th {\n",
       "        vertical-align: top;\n",
       "    }\n",
       "\n",
       "    .dataframe thead th {\n",
       "        text-align: right;\n",
       "    }\n",
       "</style>\n",
       "<table border=\"1\" class=\"dataframe\">\n",
       "  <thead>\n",
       "    <tr style=\"text-align: right;\">\n",
       "      <th></th>\n",
       "      <th>node_num</th>\n",
       "      <th>minterm_num</th>\n",
       "      <th>distance</th>\n",
       "      <th>size</th>\n",
       "    </tr>\n",
       "  </thead>\n",
       "  <tbody>\n",
       "    <tr>\n",
       "      <th>18</th>\n",
       "      <td>4.0</td>\n",
       "      <td>2.0</td>\n",
       "      <td>8.0</td>\n",
       "      <td>7.615385</td>\n",
       "    </tr>\n",
       "    <tr>\n",
       "      <th>1439</th>\n",
       "      <td>12.0</td>\n",
       "      <td>30.0</td>\n",
       "      <td>74.0</td>\n",
       "      <td>160.000000</td>\n",
       "    </tr>\n",
       "    <tr>\n",
       "      <th>46</th>\n",
       "      <td>4.0</td>\n",
       "      <td>8.0</td>\n",
       "      <td>8.0</td>\n",
       "      <td>7.120968</td>\n",
       "    </tr>\n",
       "    <tr>\n",
       "      <th>363</th>\n",
       "      <td>7.0</td>\n",
       "      <td>10.0</td>\n",
       "      <td>19.0</td>\n",
       "      <td>34.761905</td>\n",
       "    </tr>\n",
       "    <tr>\n",
       "      <th>919</th>\n",
       "      <td>9.0</td>\n",
       "      <td>50.0</td>\n",
       "      <td>77.0</td>\n",
       "      <td>156.875000</td>\n",
       "    </tr>\n",
       "    <tr>\n",
       "      <th>...</th>\n",
       "      <td>...</td>\n",
       "      <td>...</td>\n",
       "      <td>...</td>\n",
       "      <td>...</td>\n",
       "    </tr>\n",
       "    <tr>\n",
       "      <th>813</th>\n",
       "      <td>9.0</td>\n",
       "      <td>12.0</td>\n",
       "      <td>32.0</td>\n",
       "      <td>61.600000</td>\n",
       "    </tr>\n",
       "    <tr>\n",
       "      <th>695</th>\n",
       "      <td>9.0</td>\n",
       "      <td>4.0</td>\n",
       "      <td>16.0</td>\n",
       "      <td>25.780000</td>\n",
       "    </tr>\n",
       "    <tr>\n",
       "      <th>1729</th>\n",
       "      <td>15.0</td>\n",
       "      <td>20.0</td>\n",
       "      <td>82.0</td>\n",
       "      <td>161.750000</td>\n",
       "    </tr>\n",
       "    <tr>\n",
       "      <th>1387</th>\n",
       "      <td>12.0</td>\n",
       "      <td>15.0</td>\n",
       "      <td>41.0</td>\n",
       "      <td>93.900000</td>\n",
       "    </tr>\n",
       "    <tr>\n",
       "      <th>1317</th>\n",
       "      <td>12.0</td>\n",
       "      <td>9.0</td>\n",
       "      <td>38.0</td>\n",
       "      <td>70.714286</td>\n",
       "    </tr>\n",
       "  </tbody>\n",
       "</table>\n",
       "<p>373 rows × 4 columns</p>\n",
       "</div>"
      ],
      "text/plain": [
       "      node_num  minterm_num  distance        size\n",
       "18         4.0          2.0       8.0    7.615385\n",
       "1439      12.0         30.0      74.0  160.000000\n",
       "46         4.0          8.0       8.0    7.120968\n",
       "363        7.0         10.0      19.0   34.761905\n",
       "919        9.0         50.0      77.0  156.875000\n",
       "...        ...          ...       ...         ...\n",
       "813        9.0         12.0      32.0   61.600000\n",
       "695        9.0          4.0      16.0   25.780000\n",
       "1729      15.0         20.0      82.0  161.750000\n",
       "1387      12.0         15.0      41.0   93.900000\n",
       "1317      12.0          9.0      38.0   70.714286\n",
       "\n",
       "[373 rows x 4 columns]"
      ]
     },
     "execution_count": 26,
     "metadata": {},
     "output_type": "execute_result"
    }
   ],
   "source": [
    "data_test"
   ]
  },
  {
   "cell_type": "code",
   "execution_count": 29,
   "metadata": {},
   "outputs": [
    {
     "data": {
      "text/plain": [
       "array([34.1247952])"
      ]
     },
     "execution_count": 29,
     "metadata": {},
     "output_type": "execute_result"
    }
   ],
   "source": [
    "cols = [\"node_num\", \"minterm_num\", \"distance\"]\n",
    "\n",
    "data = pd.DataFrame(\n",
    "            [[7, 10, 19]],\n",
    "            columns=cols,\n",
    "        )\n",
    "estimator.predict(data)"
   ]
  },
  {
   "cell_type": "code",
   "execution_count": null,
   "metadata": {},
   "outputs": [],
   "source": []
  }
 ],
 "metadata": {
  "kernelspec": {
   "display_name": "Python 3 (ipykernel)",
   "language": "python",
   "name": "python3"
  },
  "language_info": {
   "codemirror_mode": {
    "name": "ipython",
    "version": 3
   },
   "file_extension": ".py",
   "mimetype": "text/x-python",
   "name": "python",
   "nbconvert_exporter": "python",
   "pygments_lexer": "ipython3",
   "version": "3.9.15"
  },
  "vscode": {
   "interpreter": {
    "hash": "246a0741c1bc7e9687b7e96f6c82e9d1875542180f03f49ddfdbd347e36ae0c6"
   }
  }
 },
 "nbformat": 4,
 "nbformat_minor": 2
}
